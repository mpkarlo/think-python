{
 "nbformat": 4,
 "nbformat_minor": 2,
 "metadata": {
  "language_info": {
   "name": "python",
   "codemirror_mode": {
    "name": "ipython",
    "version": 3
   },
   "version": "3.7.4-final"
  },
  "orig_nbformat": 2,
  "file_extension": ".py",
  "mimetype": "text/x-python",
  "name": "python",
  "npconvert_exporter": "python",
  "pygments_lexer": "ipython3",
  "version": 3,
  "kernelspec": {
   "name": "python3",
   "display_name": "Python 3"
  }
 },
 "cells": [
  {
   "cell_type": "markdown",
   "execution_count": null,
   "metadata": {},
   "outputs": [],
   "source": [
    "# The way of the program\n",
    "\n",
    "The goal of this book is to teach you to think like a computer scientist. This way of thinking combines some of the best features of mathematics, engineering, and natural science. Like mathmaticians, computer scientists use formal languages to denote ideas (specifically computations). Like engineers, they design things, assembling components into systems and evaluating tradeoffs among alternatives. Like scientists, they observe the behaviour of complex systems, form hypotheses, and test predictions.\n",
    "\n",
    "The single most important skill for a computer scientist is **problem solving**. Problem solving means the ability to formulate problems, think creatively about solutions, and express a solution clearly and accurately. As it turns out, the process of learning to program is an excellent opportunity to practice problem-solving skills. That's why this chapter is called, \"The way of the program\".\n",
    "\n",
    "On one level, you will be learning to program, a useful skill by itself. On another level, you will use programming as a means to an end. As we go along, that end will become clearer."
   ]
  },
  {
   "cell_type": "markdown",
   "execution_count": null,
   "metadata": {},
   "outputs": [],
   "source": [
    "## 1.1 What is a program?\n",
    "\n",
    "A **program** is a sequence of instructions that specifies how to perform a computation. The computation might be something mathematical, such as solving a system of equations or finding the roots of a polynomial, but it can also be a symbolic computation, such as searching and replacing text in a document or something graphical, like processing an image or playing a video.\n",
    "\n",
    "The details look different in different languages, but a few basic instructions appear in just about every language:\n",
    "\n",
    "**input:** Get data from the keyboard, a file, the network, or some other device.\n",
    "\n",
    "**output:** Display data on the screen, save it in a file, send it over the network, etc.\n",
    "\n",
    "**math:** Perform basic mathematical operations like addition and multiplication.\n",
    "\n",
    "**conditional execution:** Check for certain conditions and run the appropiate code.\n",
    "\n",
    "**repetition:** Perform some action repeatedly, usually with some variation.\n",
    "\n",
    "Believe it or not, that's pretty much all there is to it. Every program you've ever used, no matter how complicated, is made up of instructions that look pretty much like these. So you can think of programming as the process of breaking a large, complex taks into smaller and smaller subtasks until the subtasks are simple enoug to be performed with one of these basic instructions."
   ]
  },
  {
   "cell_type": "markdown",
   "execution_count": null,
   "metadata": {},
   "outputs": [],
   "source": [
    "## 1.2 Running Python\n",
    "\n",
    "One of the challenges of getting started with Python is that you might have to install Python and related software on your computer. If you are familiar with your operating system, and specially if you are comfortable with the command-line interface, you will have no trouble installing Python. But for beginners, it can be painful to learn about system administration and programming at the same time.\n",
    "\n",
    "To avoid that problem, I recommend that you start out running Python in a browser. Later, when you are comfortable with Python, I'll make suggestions for installing Python on your computer.\n",
    "\n",
    "There are a number of web pages you can use to run Python. If you already have a favorite, go ahead and use it. Otherwise I recommend PythonAnywhere. I provide detailed instructions for getting started at [http://tinyurl.com/thinkpython2e].\n",
    "\n",
    "There are two versions of Python, called Python 2 and Python 3. They are very similar, so if you learn one, it is easy to switch to the other. In fact, there are only a few differences you will encounter as a beginner. This book is written for Python 3, but I include some notes about Python 2.\n",
    "\n",
    "The Python **interpreter** is a program that reads and executes Python code. Depending on your environment, you might start the interpreter by clicking on an icon, or by typing `python` on a command line. When it starts, you should see output like this:\n",
    "\n",
    "```\n",
    "Python 3.7.4 (default, Aug 9 2019, 18:34:13) [MSC v.1915 64 bit (AMD64)] :: Anaconda, Inc. on win32\n",
    "Type \"help\", \"copyright\", \"credits\" or \"license\" for more information.\n",
    ">>>                                                                 \n",
    "```\n",
    "The first three lines contain information about the interpreter and the operating system it's running on, so it might be different for you. But you should check that the version number, which is 3.7.4 in this example, begins with a 3, which indicates that you are running Python 3. If it begins with a 2, you are running (you guessed it) Python 2.\n",
    "\n",
    "The last line is a **prompt** that indicates that the interpreter is ready for you to enter code. If you type a line of code and hit Enter, the interpreter displays the result:\n",
    "\n",
    "```\n",
    ">>> 1 + 1\n",
    "2\n",
    "```\n",
    "Now you're ready to get started. From here on, I assume that you know how to start the Python interpreter and run code."
   ]
  },
  {
   "cell_type": "markdown",
   "execution_count": null,
   "metadata": {},
   "outputs": [],
   "source": [
    "## 1.3 The first program\n",
    "\n",
    "Traditionally, the first program you write in a new language is called \"Hello, World!\" because all it does is display the words \"Hello, World!\". In Python, it looks like this:"
   ]
  },
  {
   "cell_type": "code",
   "execution_count": null,
   "metadata": {},
   "outputs": [],
   "source": [
    "print('Hello, World!')"
   ]
  },
  {
   "cell_type": "markdown",
   "execution_count": null,
   "metadata": {},
   "outputs": [],
   "source": [
    "This is an example of a **print statement**, althought it doesn't actually print anything on paper. It displays a result on the screen. In this case the result is the words `Hello, World!`.\n",
    "\n",
    "The quotation marks in the program mark the beginning and end of the text to be displayed; they don't appear in the result.\n",
    "\n",
    "The parentheses indicate that `print` is function. We'll get to functions in Chapter 3.\n",
    "\n",
    "In Python 2, the print statement is slightly different; it is not a function, so it doesn't use parentheses.\n",
    "\n",
    "```\n",
    ">>> print 'Hello, World!'\n",
    "```\n",
    "\n",
    "This distinction will make more sense soon, but that's enough to get started."
   ]
  },
  {
   "cell_type": "markdown",
   "execution_count": null,
   "metadata": {},
   "outputs": [],
   "source": [
    "## 1.4 Arithmetic operators\n",
    "\n",
    "After \"Hello, World\", the next step is arithmetic. Python provides **operators**, which are special symbols that represent computations like addition and multiplication.\n",
    "\n",
    "The operators +, -, and * perform addition, substraction, and multiplication, as in the following examples."
   ]
  },
  {
   "cell_type": "code",
   "execution_count": null,
   "metadata": {},
   "outputs": [],
   "source": [
    "40 + 2"
   ]
  },
  {
   "cell_type": "code",
   "execution_count": null,
   "metadata": {},
   "outputs": [],
   "source": [
    "43 - 1"
   ]
  },
  {
   "cell_type": "code",
   "execution_count": null,
   "metadata": {},
   "outputs": [],
   "source": [
    "6 * 7"
   ]
  },
  {
   "cell_type": "markdown",
   "execution_count": null,
   "metadata": {},
   "outputs": [],
   "source": [
    "The operator / performs division."
   ]
  },
  {
   "cell_type": "code",
   "execution_count": null,
   "metadata": {},
   "outputs": [],
   "source": [
    "84 / 2"
   ]
  },
  {
   "cell_type": "markdown",
   "execution_count": null,
   "metadata": {},
   "outputs": [],
   "source": [
    "You might wonder why the result is 42.0 instead of 42. I'll explain in the next section.\n",
    "\n",
    "Finally, the the operator ** performs exponentiation; that is, it raises a number to a power."
   ]
  },
  {
   "cell_type": "code",
   "execution_count": null,
   "metadata": {},
   "outputs": [],
   "source": [
    "6 ** 2 + 6"
   ]
  },
  {
   "cell_type": "markdown",
   "execution_count": null,
   "metadata": {},
   "outputs": [],
   "source": [
    "In some other languages, ^ is used for exponentiation, but in Python it is a bitwise operator called XOR. If you are not familiar with bitwise operators, the result will surprise you."
   ]
  },
  {
   "cell_type": "code",
   "execution_count": null,
   "metadata": {},
   "outputs": [],
   "source": [
    "6 ^ 2"
   ]
  },
  {
   "cell_type": "markdown",
   "execution_count": null,
   "metadata": {},
   "outputs": [],
   "source": [
    "I won't cover bitwise operators in this book, but you can read about them at [http://wiki.python.org/moin/BitwiseOperators]."
   ]
  },
  {
   "cell_type": "markdown",
   "execution_count": null,
   "metadata": {},
   "outputs": [],
   "source": [
    "## Values and types\n",
    "\n",
    "A **value** is one of the basic things a program works with, like a letter or a number. Some values we have seen so far are `2`, `42.0`, and `'Hello, World!'`.\n",
    "\n",
    "These values belong to different **types**: `2` is an **integer**, `42.0` is a **floating-point number**, and `'Hello, World!'` is a **string**, so-called because the letters it contains are strung together.\n",
    "\n",
    "If you are not sure what type a value has, the interpreter can tell you."
   ]
  },
  {
   "cell_type": "code",
   "execution_count": null,
   "metadata": {},
   "outputs": [],
   "source": [
    "print(type(2))"
   ]
  },
  {
   "cell_type": "code",
   "execution_count": null,
   "metadata": {},
   "outputs": [],
   "source": [
    "print(type(42.0))"
   ]
  },
  {
   "cell_type": "code",
   "execution_count": null,
   "metadata": {},
   "outputs": [],
   "source": [
    "print(type('Hello, World!'))"
   ]
  },
  {
   "cell_type": "markdown",
   "execution_count": null,
   "metadata": {},
   "outputs": [],
   "source": [
    "In these results, the word \"class\" is used in the sense of a category; a type is a category of values.\n",
    "\n",
    "Not surprisingly, integers belong to the type `int`, strings belong to `str` and floating-point numbers belong to `float`.\n",
    "\n",
    "What about values like `'2'` and `'42.0'`? They look like numbers, but they are in quotation marks like strings."
   ]
  },
  {
   "cell_type": "code",
   "execution_count": null,
   "metadata": {},
   "outputs": [],
   "source": [
    "print(type('2'))"
   ]
  },
  {
   "cell_type": "code",
   "execution_count": null,
   "metadata": {},
   "outputs": [],
   "source": [
    "print(type('42.0'))"
   ]
  },
  {
   "cell_type": "markdown",
   "execution_count": null,
   "metadata": {},
   "outputs": [],
   "source": [
    "They're strings.\n",
    "\n",
    "When you type a large integer, you might be tempted to use commas between groups of digits, as in `1,000,000`. This is not a legal _integer_ in Python, but it is legal."
   ]
  },
  {
   "cell_type": "code",
   "execution_count": null,
   "metadata": {},
   "outputs": [],
   "source": [
    "1,000,000"
   ]
  },
  {
   "cell_type": "markdown",
   "execution_count": null,
   "metadata": {},
   "outputs": [],
   "source": [
    "That's not what we expected at all! Python interprets `1,000,000` as comma-separated sequence of integers. We'll learn more about this kind of sequence later."
   ]
  },
  {
   "cell_type": "markdown",
   "execution_count": null,
   "metadata": {},
   "outputs": [],
   "source": [
    "## Formal and natural languages\n",
    "\n",
    "**Natural languages** are the languages people speak, such as English, Spanish, and French. They were not designed by people (although people try to impose some order on them); they evolved naturally.\n",
    "\n",
    "**Formal languages** are languages that are designed by people for specific applications. For example, the notation that mathematicians use isa formal language that is particularly good at denoting relationships among numbers and symbols. Chemists use a formal language to represent the chemila structure of molecules. And most importantly:\n",
    "\n",
    "\n",
    ">**Programming languages are formal languages that have been degisned to express computations.**\n",
    "\n",
    "Formal languages then to have strict **syntax** rules that govern the structure of statements. For example, in mathematics the statement 3 + 3 = 6 has correct syntax, but 3+ = 3$6 does not. In chemistry _H<sub>2</sub>0_ is a syntactically correct formula, but <sub>2</sub>Zz is not.\n",
    "\n",
    "Syntax rules come in two flavors, pertaining to **tokens** and structure. Tokens are the basic elements of the language, such as words, numbers, and chemical elements. One of the problems with 3+ = 3$6 is that $ is not a legal token in mathematics (at least as far as I know). Similarly <sub>2</sub>Zz is not legal because there is no element with the abbreviation Zz.\n",
    "\n",
    "The second type of syntax rule pertains to the way tokens are combined. The equation 3 +/3 is illegal because even though + and / are legal tokens, you can't have one right after the other. Similarly, in a chemical formula the subscript comes after the element name, not before.\n",
    "\n",
    "This @ well-structured Engli$h sentence with invalid t*kens in it. This sentence all valid tokens has, but invalid stucture with.\n",
    "\n",
    "Although formal and natural languages have many features in common--tokens, structure, and syntax--there are some differences:\n",
    "\n",
    "**ambiguity:** Natual languages are full of ambiguity, which people deal with by using contextual clues and other information. Formal lanugages are designed to be nearly or completely unambiguous, which means that any statement has exactly one meaning, regardless of context.\n",
    "\n",
    "**redundancy:** In order to make up for ambiguity and reduce misunderstandings, natural languages employ lots of redundancy. As a result, they are often verbose. Formal languages are less redundant and more concise.\n",
    "\n",
    "**literalness:** Natural languages are full of idiom and metaphor. If I say, \"The penny dropped\", there is probably no penny and nothing dropping (this idiom means that someone understood something after a period confusion). Formal languages mean exactly what they say.\n",
    "\n",
    "Because we all grop up speaking natural languages, it is sometimes hard to adjust to formal languages. The difference between formal and natural language is like the difference between poetry and prose, but more so:\n",
    "\n",
    "**Poetry:** Words are used for their shounds as well as for their meaning, and the whole poem together creates and effect or emotional response. Ambiguity is not only common but often deliberate.\n",
    "\n",
    "**Prose:** The literal meaning of words is more important, and the structure contributes more meaning. Prose is more amenable to analysis than poetry but still often ambiguous.\n",
    "\n",
    "**Programs:** The meaning of a computer programm is unambiguous and literal, and can be undrestood entirely by analysis of the tokens and structure.\n",
    "\n",
    "Formal languages are more dense than natural languages, so it takes longer to read them. Also, the structure is important, so it is not always best to read from top to bottom, left to right. Instead, learn to parse the program in your head, identifying the tokens and interpreting the structure. Finally, the details matter. Small errors in spelling and punctuation, which you can get away with in natural languages, can make a big difference in a formal language."
   ]
  },
  {
   "cell_type": "markdown",
   "execution_count": null,
   "metadata": {},
   "outputs": [],
   "source": [
    "## 1.7 Debugging\n",
    "\n",
    "Programmers make mistakes. For whimsical reasons, programming errors are called **bugs** and the process of tracking them down is called **debugging**.\n",
    "\n",
    "Programming, and especially debugging, sometimes brings out strong emotions. If you are struggling with a difficult bug, you might feel angry, despondent, or embarrassed.\n",
    "\n",
    "There is evidence that people naturally respond to computers as if they were people. When they work well, we think of them as teammates, and wehn they are obstinate or rude, we respond to them the same way we respond to rude, obstinate people (Reeves and Nass, _The Media Equation: How People Treat Compputers, Television, and New Media Like Real People and Places_).\n",
    "\n",
    "Preparing for these reactions might help you deal with them. One approach is to think of the computer as an employee with certain strengths, like speed and precision, and particular weaknesses, like lack of empathy and inability to grasp the big picture.\n",
    "\n",
    "Your job is to be a good manager: find ways to take advantage of the strengths and mitigate the weaknesses. And find ways to use your emotions to engage with the problem, without letting your reactions interfere with your ability to work effectively.\n",
    "\n",
    "Learning to debug can be frustrating, but it is a valuable skill that is useful for many activities beyond programming. At the end of each chapter there is a section, like this one, with my suggestions for debugging. I hope they help!"
   ]
  },
  {
   "cell_type": "markdown",
   "execution_count": null,
   "metadata": {},
   "outputs": [],
   "source": [
    "## 1.8 Glossary\n",
    "\n",
    "**problem solving:** The process of formulating a problem, finding a solution, and expressing it.\n",
    "\n",
    "**high-level language:** A programming language like Python that is designed to be easy for humans to read and write.\n",
    "\n",
    "**low-level language:** A programming language that is designed to be easy for a computer to run; also called \"machine language\" or \"assembly language\".\n",
    "\n",
    "**portability:** A property of a prgram that can run on more than one kind of computer.\n",
    "\n",
    "**interpreter:** A program that reads another program and executes it.\n",
    "\n",
    "**prompt:** Characters displayed by the interpreter to indicate that it is ready to take input from the user.\n",
    "\n",
    "**program:** A set of instructions that specifies a computation.\n",
    "\n",
    "**print statement:** An instruction that causes the Python interpreter to display a value on the screen. \n",
    "\n",
    "**operator:** A special symbol that represents a simple computation like addition, multiplication, or string concatenation.\n",
    "\n",
    "**value:** One of the basic units of data, like a number or a sting, that a program manipulates.\n",
    "\n",
    "**type:** A category of values. The types we have seen so far are integers (type `int`), floating-point numbers (type `float`), and strings (type `str`).\n",
    "\n",
    "**integer:** A type that represents whole numbers.\n",
    "\n",
    "**floating-point:** A type that represents numbers with fractional parts.\n",
    "\n",
    "**string:** A type that represents sequences of characters.\n",
    "\n",
    "**natural language:** Any one of the languages that people speak that evolved naturally.\n",
    "\n",
    "**formal language:** Any one of the languages that people have designed for specific purposes, such as represnting mathematical ideas or computer programs; all programming languages are formal languages.\n",
    "\n",
    "**token:** One of the basic elements of the syntactic structure of a program, analogous to a word in a natural language.\n",
    "\n",
    "**syntax:** The rules that govern the structure of a program.\n",
    "\n",
    "**parse:** To examine a program and analyze the syntactic structure.\n",
    "\n",
    "**bug:** An error in a program.\n",
    "\n",
    "**debugging:** The process of finding and correcting bugs."
   ]
  },
  {
   "cell_type": "markdown",
   "execution_count": null,
   "metadata": {},
   "outputs": [],
   "source": [
    "## 1.9 Exercises"
   ]
  },
  {
   "cell_type": "markdown",
   "execution_count": null,
   "metadata": {},
   "outputs": [],
   "source": [
    "### **Exercise 1.1** \n",
    "\n",
    "_It is a good idea to read this book in front of a computer so you can try out the examples as you go._\n",
    "\n",
    "_Whenever you are experimenting with a new feature, you should try to make mistakes. For example, in the \"Hello, world!\" program, what happens if you leave out one of the quotation marks? What if you leave out both? What if you spell `print` wrong?_\n",
    "\n",
    "_This kind of experiment helps you remember what you read; it also helps when you are programming, because you get to know what the error messages mean. It is better to make mistakes now and on purpose than later and accidentally._\n",
    "\n",
    "_1. In a print statement, what happens if you leave out one of the parentheses, or both?_\n",
    "\n",
    "_2. If you are trying to print a string, what happens if you leave out one of the quotation marks, or both?_\n",
    "\n",
    "_3. You can use a minus sign to make a negative number like `-2`. What happens if you put a plus sign before a number? What about 2++2?_\n",
    "\n",
    "_4. In math notation, leading zeros are ok, as in `09`. What happens if you try this in Python?_\n",
    "\n",
    "_5. What happens if you have two values with no operator between them?_"
   ]
  },
  {
   "cell_type": "code",
   "execution_count": null,
   "metadata": {},
   "outputs": [],
   "source": [
    "# 1.1.1.1\n",
    "\n",
    "print('Hello, World!'"
   ]
  },
  {
   "cell_type": "code",
   "execution_count": null,
   "metadata": {},
   "outputs": [],
   "source": [
    "# 1.1.1.2\n",
    "\n",
    "print 'Hello, World!'"
   ]
  },
  {
   "cell_type": "code",
   "execution_count": null,
   "metadata": {},
   "outputs": [],
   "source": [
    "# 1.1.2.1\n",
    "\n",
    "print('Hello, World!)"
   ]
  },
  {
   "cell_type": "code",
   "execution_count": null,
   "metadata": {},
   "outputs": [],
   "source": [
    "# 1.1.2.2\n",
    "\n",
    "print(Hello, World!)"
   ]
  },
  {
   "cell_type": "code",
   "execution_count": null,
   "metadata": {},
   "outputs": [],
   "source": [
    "# 1.1.3.1\n",
    "\n",
    "2++2"
   ]
  },
  {
   "cell_type": "code",
   "execution_count": null,
   "metadata": {},
   "outputs": [],
   "source": [
    "# 1.1.4.1\n",
    "\n",
    "09 + 1"
   ]
  },
  {
   "cell_type": "code",
   "execution_count": null,
   "metadata": {},
   "outputs": [],
   "source": [
    "# 1.1.5.1\n",
    "\n",
    "1 2"
   ]
  },
  {
   "cell_type": "markdown",
   "execution_count": null,
   "metadata": {},
   "outputs": [],
   "source": [
    "### **Exercise 1.2**\n",
    "\n",
    "_Try using the Python interpreter as a calculator._\n",
    "\n",
    "_1. How many seconds are there in 42 minutes and 42 seconds?_ \n",
    "\n",
    "_2. How many miles are there in 10 kilometers? Hint: there are 1.61 kilometers in  mile._\n",
    "\n",
    "_3. If you run a 10 kilometer race in 42 minutes and 42 seconds, what is you average pace (time per mile in minutes and seconds)? What is you average speed in miles per hour?_ "
   ]
  },
  {
   "cell_type": "code",
   "execution_count": null,
   "metadata": {},
   "outputs": [],
   "source": [
    "# 1.2.1\n",
    "\n",
    "42 * 60 + 42"
   ]
  },
  {
   "cell_type": "code",
   "execution_count": null,
   "metadata": {},
   "outputs": [],
   "source": [
    "# 1.2.2\n",
    "\n",
    "10 / 1.61"
   ]
  },
  {
   "cell_type": "code",
   "execution_count": null,
   "metadata": {},
   "outputs": [],
   "source": [
    "# 1.2.3.1\n",
    "\n",
    "(42 * 60 + 42) / (10 / 1.61) # pace time"
   ]
  },
  {
   "cell_type": "code",
   "execution_count": null,
   "metadata": {},
   "outputs": [],
   "source": [
    "(10 / 1.61) / (((42 * 60 + 42) / 60) / 60) # miles per hour"
   ]
  }
 ]
}
